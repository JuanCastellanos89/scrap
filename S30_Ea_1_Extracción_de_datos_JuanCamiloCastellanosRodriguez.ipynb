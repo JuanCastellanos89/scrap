{
  "nbformat": 4,
  "nbformat_minor": 0,
  "metadata": {
    "colab": {
      "provenance": [],
      "include_colab_link": true
    },
    "kernelspec": {
      "name": "python3",
      "display_name": "Python 3"
    },
    "language_info": {
      "name": "python"
    }
  },
  "cells": [
    {
      "cell_type": "markdown",
      "metadata": {
        "id": "view-in-github",
        "colab_type": "text"
      },
      "source": [
        "<a href=\"https://colab.research.google.com/github/JuanCastellanos89/scrap/blob/main/S30_Ea_1_Extracci%C3%B3n_de_datos_JuanCamiloCastellanosRodriguez.ipynb\" target=\"_parent\"><img src=\"https://colab.research.google.com/assets/colab-badge.svg\" alt=\"Open In Colab\"/></a>"
      ]
    },
    {
      "cell_type": "markdown",
      "source": [
        "**S30 - Evidencia de aprendizaje 1. Análisis y herramientas de extracción de datos**"
      ],
      "metadata": {
        "id": "YwfyhzUUjDLj"
      }
    },
    {
      "cell_type": "code",
      "source": [
        "# Instalar librerias\n",
        "!pip install\n",
        "!pip install requests beautifulsoup4"
      ],
      "metadata": {
        "id": "KB-mLcbKoYfi",
        "colab": {
          "base_uri": "https://localhost:8080/"
        },
        "outputId": "cfff84cd-8499-4d05-b45c-0e8d4696e3e3"
      },
      "execution_count": null,
      "outputs": [
        {
          "output_type": "stream",
          "name": "stdout",
          "text": [
            "Requirement already satisfied: requests in /usr/local/lib/python3.10/dist-packages (2.32.3)\n",
            "Requirement already satisfied: beautifulsoup4 in /usr/local/lib/python3.10/dist-packages (4.12.3)\n",
            "Requirement already satisfied: charset-normalizer<4,>=2 in /usr/local/lib/python3.10/dist-packages (from requests) (3.4.0)\n",
            "Requirement already satisfied: idna<4,>=2.5 in /usr/local/lib/python3.10/dist-packages (from requests) (3.10)\n",
            "Requirement already satisfied: urllib3<3,>=1.21.1 in /usr/local/lib/python3.10/dist-packages (from requests) (2.2.3)\n",
            "Requirement already satisfied: certifi>=2017.4.17 in /usr/local/lib/python3.10/dist-packages (from requests) (2024.8.30)\n",
            "Requirement already satisfied: soupsieve>1.2 in /usr/local/lib/python3.10/dist-packages (from beautifulsoup4) (2.6)\n"
          ]
        }
      ]
    },
    {
      "cell_type": "code",
      "source": [
        "import requests\n",
        "from bs4 import BeautifulSoup\n",
        "import json\n",
        "\n",
        "# URL del articulo: tarjetas de video AMD en Amazon\n",
        "url = \"https://www.amazon.com/s?k=amd+graphics+card\"\n",
        "\n",
        "# Configuracion de los encabezados\n",
        "headers = {\n",
        "    \"User-Agent\": \"Mozilla/5.0 (Windows NT 10.0; Win64; x64) AppleWebKit/537.36 (KHTML, like Gecko) Chrome/91.0.4472.124 Safari/537.36\",\n",
        "    \"Accept-Language\": \"en-US,en;q=0.9\",\n",
        "    \"Referer\": \"https://www.amazon.com/\",\n",
        "    \"Accept-Encoding\": \"gzip, deflate, br\"\n",
        "}\n",
        "\n",
        "# Realiza la solicitud HTTP\n",
        "response = requests.get(url, headers=headers)\n",
        "\n",
        "# Comprueba el estado de la respuesta\n",
        "if response.status_code == 200:\n",
        "    # Analiza el contenido con BeautifulSoup\n",
        "    soup = BeautifulSoup(response.text, 'html.parser')\n",
        "\n",
        "    # Extrae los datos\n",
        "    product_names = soup.select(\"h2 .a-link-normal.a-text-normal\")\n",
        "    product_prices = soup.select(\".a-price-whole\")\n",
        "\n",
        "    # Almacena los datos en listas\n",
        "    products = []\n",
        "    for name, price in zip(product_names, product_prices):\n",
        "        product_info = {\n",
        "            \"name\": name.get_text(strip=True),\n",
        "            \"price\": price.get_text(strip=True)\n",
        "        }\n",
        "        products.append(product_info)\n",
        "\n",
        "    # imprime los resultados\n",
        "    for product in products:\n",
        "        print(f\"{product['name']} - ${product['price']}\")\n",
        "\n",
        "    # Guarda los resultados en un archivo .JSON\n",
        "    with open('productos_amd.json', 'w') as json_file:\n",
        "        json.dump(products, json_file, indent=4)\n",
        "\n",
        "    print(\"Los datos han sido guardados en 'productos_amd.json'\")\n",
        "else:\n",
        "    print(\"Error al realizar la solicitud:\", response.status_code)"
      ],
      "metadata": {
        "colab": {
          "base_uri": "https://localhost:8080/"
        },
        "id": "YXt_8gqUo1WE",
        "outputId": "36d5d1e2-188b-4d66-b449-e53a309c3e57"
      },
      "execution_count": 1,
      "outputs": [
        {
          "output_type": "stream",
          "name": "stdout",
          "text": [
            "Radeon RX 7600 XT Gaming OC 16G Graphics Card, 3X WINDFORCE Fans 16GB 128-bit GDDR6, GV-R76XTGAMING OC-16GD Video Card - $314.\n",
            "AMD Radeon™ RX 7900 XT Phantom Gaming 20GB OC Graphics Card 320 Bit 7680 x 4320 0dB Silent Cooling 3 x DisplayPort™ 2.1 GDDR6 1 x HDMI™ 2.1 20Gbps PCI Express 4.0 - $649.\n",
            "Fighter AMD Radeon RX 6750 XT 12GB GDDR6 Graphics Card - $299.\n",
            "Speedster QICK319 Radeon RX 6750XT CORE Gaming Graphics Card with 12GB GDDR6 HDMI 3xDP, AMD RDNA 2 RX-675XYJFDP - $308.\n",
            "Radeon RX 7800 XT Gaming OC 16G Graphics Card, 3X WINDFORCE Fans 16GB 256-bit GDDR6, GV-R78XTGAMING OC-16GD Video Card - $489.\n",
            "11319-07-20G Pulse AMD Radeon RX 6650 XT Gaming Graphics Card with 8GB GDDR6, AMD RDNA 2 - $209.\n",
            "TUF Gaming Radeon™ RX 7600 XT OC Edition 16GB GDDR6 Graphics Card (AMD RDNA™ 3, PCIe 4.0, HDMI 2.1, DisplayPort 2.1, Axial-tech Fan Design, Auto-Extreme Technology, GPU Tweak III, and More) - $379.\n",
            "Gaming GeForce RTX 3060 12GB 15 Gbps GDRR6 192-Bit HDMI/DP PCIe 4 Torx Twin Fan Ampere OC Graphics Card - $284.\n",
            "Radeon RX 580 GTS XXX Edition 1386MHz OC+, 8GB GDDR5, VR Ready, Dual BIOS, 3xDP HDMI DVI, AMD Graphics Card (RX-580P8DFD6) - $130.\n",
            "Mercury AMD Radeon RX 7900 XTX Magnetic Air Gaming Graphics Card with 24GB GDDR6, RDNA3 RX-79XMAIRB9 - $920.\n",
            "11330-01-20G Nitro+ AMD Radeon RX 7800 XT Gaming Graphics Card with 16GB GDDR6, AMD RDNA 3 - $499.\n",
            "GeForce RTX 3060 Gaming OC 12G (REV2.0) Graphics Card, 3X WINDFORCE Fans, 12GB 192-bit GDDR6, GV-N3060GAMING OC-12GD Video Card - $287.\n",
            "11339-04-20G Pulse AMD Radeon RX 7600 XT Gaming Graphics Card with 16GB GDDR6, AMD RDNA 3 - $329.\n",
            "RX 580 8GB Graphics Card, 2048SP 1289MHz GDDR5 256bit Radeon RX580 AMD GPU Video Card with Dual Cooling Fan, HDMI, 3*DP, DVI-Output, 8K PCIE 3.0 Computer Graphics Card for Gaming PC - $109.\n",
            "Nitro AMD Radeon RX7600 XT Overclocking Graphics Card | 16GB GDDR6 128-bit 18 Gbps | Dual Nitro FrostBlade Ringed Fans | TPD 215W | 1 x HDMI 2.1 & 3 x DisplayPort 2.1 - $339.\n",
            "GV-R76GAMING OC-8GD Radeon RX 7600 Gaming OC 8G Graphics Card, 3X WINDFORCE Fans 8GB 128-bit GDDR6, Video Card - $269.\n",
            "15.6 Inch Laptop Computer,Gaming Laptop,AMD Ryzen 7 5700U 8C/16T Processor(up to 4.3Ghz),16GB RAM 1TB SSD,AMD Radeon Graphics,15.6” FHD 1920 * 1080 Display,WiFi 5,BT5.0,Backlit Keyboard - $599.\n",
            "Los datos han sido guardados en 'productos_amd.json'\n"
          ]
        }
      ]
    }
  ]
}