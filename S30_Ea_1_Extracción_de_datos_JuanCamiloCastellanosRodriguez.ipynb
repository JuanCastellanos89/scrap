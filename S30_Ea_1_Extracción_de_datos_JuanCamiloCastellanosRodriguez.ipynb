{
  "nbformat": 4,
  "nbformat_minor": 0,
  "metadata": {
    "colab": {
      "provenance": [],
      "include_colab_link": true
    },
    "kernelspec": {
      "name": "python3",
      "display_name": "Python 3"
    },
    "language_info": {
      "name": "python"
    }
  },
  "cells": [
    {
      "cell_type": "markdown",
      "metadata": {
        "id": "view-in-github",
        "colab_type": "text"
      },
      "source": [
        "<a href=\"https://colab.research.google.com/github/JuanCastellanos89/scrap/blob/main/S30_Ea_1_Extracci%C3%B3n_de_datos_JuanCamiloCastellanosRodriguez.ipynb\" target=\"_parent\"><img src=\"https://colab.research.google.com/assets/colab-badge.svg\" alt=\"Open In Colab\"/></a>"
      ]
    },
    {
      "cell_type": "markdown",
      "source": [
        "**S30 - Evidencia de aprendizaje 1. Análisis y herramientas de extracción de datos**"
      ],
      "metadata": {
        "id": "YwfyhzUUjDLj"
      }
    },
    {
      "cell_type": "code",
      "source": [
        "# Instalar librerias\n",
        "!pip install\n",
        "!pip install requests beautifulsoup4"
      ],
      "metadata": {
        "id": "KB-mLcbKoYfi",
        "colab": {
          "base_uri": "https://localhost:8080/"
        },
        "outputId": "cfff84cd-8499-4d05-b45c-0e8d4696e3e3"
      },
      "execution_count": null,
      "outputs": [
        {
          "output_type": "stream",
          "name": "stdout",
          "text": [
            "Requirement already satisfied: requests in /usr/local/lib/python3.10/dist-packages (2.32.3)\n",
            "Requirement already satisfied: beautifulsoup4 in /usr/local/lib/python3.10/dist-packages (4.12.3)\n",
            "Requirement already satisfied: charset-normalizer<4,>=2 in /usr/local/lib/python3.10/dist-packages (from requests) (3.4.0)\n",
            "Requirement already satisfied: idna<4,>=2.5 in /usr/local/lib/python3.10/dist-packages (from requests) (3.10)\n",
            "Requirement already satisfied: urllib3<3,>=1.21.1 in /usr/local/lib/python3.10/dist-packages (from requests) (2.2.3)\n",
            "Requirement already satisfied: certifi>=2017.4.17 in /usr/local/lib/python3.10/dist-packages (from requests) (2024.8.30)\n",
            "Requirement already satisfied: soupsieve>1.2 in /usr/local/lib/python3.10/dist-packages (from beautifulsoup4) (2.6)\n"
          ]
        }
      ]
    },
    {
      "cell_type": "code",
      "source": [
        "import requests\n",
        "from bs4 import BeautifulSoup\n",
        "import json\n",
        "\n",
        "# URL del articulo: tarjetas de video AMD en Amazon\n",
        "url = \"https://www.amazon.com/s?k=amd+graphics+card\"\n",
        "\n",
        "# Configuracion de los encabezados\n",
        "headers = {\n",
        "    \"User-Agent\": \"Mozilla/5.0 (Windows NT 10.0; Win64; x64) AppleWebKit/537.36 (KHTML, like Gecko) Chrome/91.0.4472.124 Safari/537.36\",\n",
        "    \"Accept-Language\": \"en-US,en;q=0.9\",\n",
        "    \"Referer\": \"https://www.amazon.com/\",\n",
        "    \"Accept-Encoding\": \"gzip, deflate, br\"\n",
        "}\n",
        "\n",
        "# Realiza la solicitud HTTP\n",
        "response = requests.get(url, headers=headers)\n",
        "\n",
        "# Comprueba el estado de la respuesta\n",
        "if response.status_code == 200:\n",
        "    # Analiza el contenido con BeautifulSoup\n",
        "    soup = BeautifulSoup(response.text, 'html.parser')\n",
        "\n",
        "    # Extrae los datos\n",
        "    product_names = soup.select(\"h2 .a-link-normal.a-text-normal\")\n",
        "    product_prices = soup.select(\".a-price-whole\")\n",
        "\n",
        "    # Almacena los datos en listas\n",
        "    products = []\n",
        "    for name, price in zip(product_names, product_prices):\n",
        "        product_info = {\n",
        "            \"name\": name.get_text(strip=True),\n",
        "            \"price\": price.get_text(strip=True)\n",
        "        }\n",
        "        products.append(product_info)\n",
        "\n",
        "    # imprime los resultados\n",
        "    for product in products:\n",
        "        print(f\"{product['name']} - ${product['price']}\")\n",
        "\n",
        "    # Guarda los resultados en un archivo .JSON\n",
        "    with open('productos_amd.json', 'w') as json_file:\n",
        "        json.dump(products, json_file, indent=4)\n",
        "\n",
        "    print(\"Los datos han sido guardados en 'productos_amd.json'\")\n",
        "else:\n",
        "    print(\"Error al realizar la solicitud:\", response.status_code)"
      ],
      "metadata": {
        "colab": {
          "base_uri": "https://localhost:8080/"
        },
        "id": "YXt_8gqUo1WE",
        "outputId": "f57cdd51-194a-4e25-b3c1-4f4bf13c33d9"
      },
      "execution_count": null,
      "outputs": [
        {
          "output_type": "stream",
          "name": "stdout",
          "text": [
            "Fighter AMD Radeon RX 6750 XT 12GB GDDR6 Graphics Card - $299.\n",
            "Speedster QICK319 Radeon RX 6750XT CORE Gaming Graphics Card with 12GB GDDR6 HDMI 3xDP, AMD RDNA 2 RX-675XYJFDP - $320.\n",
            "GeForce RTX 3060 Gaming OC 12G (REV2.0) Graphics Card, 3X WINDFORCE Fans, 12GB 192-bit GDDR6, GV-N3060GAMING OC-12GD Video Card - $286.\n",
            "Radeon RX 580 GTS XXX Edition 1386MHz OC+, 8GB GDDR5, VR Ready, Dual BIOS, 3xDP HDMI DVI, AMD Graphics Card (RX-580P8DFD6) - $129.\n",
            "GV-R76GAMING OC-8GD Radeon RX 7600 Gaming OC 8G Graphics Card, 3X WINDFORCE Fans 8GB 128-bit GDDR6, Video Card - $259.\n",
            "Red Devil AMD Radeon RX 7800 XT 16GB GDDR6 Graphics Card - $549.\n",
            "Hellhound AMD Radeon RX 7800 XT 16GB GDDR6 Graphics Card - $519.\n",
            "11330-01-20G Nitro+ AMD Radeon RX 7800 XT Gaming Graphics Card with 16GB GDDR6, AMD RDNA 3 - $569.\n",
            "Dual GeForce RTX™ 4060 EVO OC Edition 8GB GDDR6 (PCIe 4.0, 8GB GDDR6, DLSS 3, HDMI 2.1a, DisplayPort 1.4a, Axial-tech Fan Design, 0dB Technology, Dual BIOS, Auto-Extreme Technology, and More) - $304.\n",
            "Speedster MERC310 AMD Radeon RX 7900XT Black Gaming Graphics Card with 20GB GDDR6, AMD RDNA 3 RX-79TMERCB9 - $690.\n",
            "Radeon RX 7600 XT Gaming OC 16G Graphics Card, 3X WINDFORCE Fans 16GB 128-bit GDDR6, GV-R76XTGAMING OC-16GD Video Card - $279.\n",
            "AMD Radeon™ RX 7900 XT Phantom Gaming 20GB OC Graphics Card 320 Bit 7680 x 4320 0dB Silent Cooling 3 x DisplayPort™ 2.1 GDDR6 1 x HDMI™ 2.1 20Gbps PCI Express 4.0 - $649.\n",
            "Gaming GeForce RTX 3060 12GB 15 Gbps GDRR6 192-Bit HDMI/DP PCIe 4 Torx Twin Fan Ampere OC Graphics Card - $284.\n",
            "TUF Gaming Radeon™ RX 7600 XT OC Edition 16GB GDDR6 Graphics Card (AMD RDNA™ 3, PCIe 4.0, HDMI 2.1, DisplayPort 2.1, Axial-tech Fan Design, Auto-Extreme Technology, GPU Tweak III, and More) - $379.\n",
            "Radeon RX 7800 XT Gaming OC 16G Graphics Card, 3X WINDFORCE Fans 16GB 256-bit GDDR6, GV-R78XTGAMING OC-16GD Video Card - $489.\n",
            "11319-07-20G Pulse AMD Radeon RX 6650 XT Gaming Graphics Card with 8GB GDDR6, AMD RDNA 2 - $209.\n",
            "ASUS TUF Gaming NVIDIA GeForce RTX™ 4070 Ti Super OC Edition Gaming Graphics Card (PCIe 4.0, 16GB GDDR6X, HDMI 2.1a, DisplayPort 1.4a),RTX4070Ti|OC|Black - $849.\n",
            "Los datos han sido guardados en 'productos_amd.json'\n"
          ]
        }
      ]
    }
  ]
}