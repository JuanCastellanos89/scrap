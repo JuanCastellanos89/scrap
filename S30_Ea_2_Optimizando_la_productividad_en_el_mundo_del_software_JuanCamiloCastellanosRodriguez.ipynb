{
 "cells": [
  {
   "cell_type": "markdown",
   "metadata": {
    "colab_type": "text",
    "id": "view-in-github"
   },
   "source": [
    "<a href=\"https://colab.research.google.com/github/JuanCastellanos89/scrap/blob/main/S30_Ea_2_Optimizando_la_productividad_en_el_mundo_del_software_JuanCamiloCastellanosRodriguez.ipynb\" target=\"_parent\"><img src=\"https://colab.research.google.com/assets/colab-badge.svg\" alt=\"Open In Colab\"/></a>"
   ]
  },
  {
   "cell_type": "markdown",
   "metadata": {
    "id": "YwfyhzUUjDLj"
   },
   "source": [
    "**S30 - Evidencia de aprendizaje 2. Optimizando la productividad en el mundo del software**"
   ]
  },
  {
   "cell_type": "code",
   "execution_count": 1,
   "metadata": {
    "colab": {
     "base_uri": "https://localhost:8080/"
    },
    "id": "KB-mLcbKoYfi",
    "outputId": "199b2025-2288-4c6e-f436-2cbb8a367e0e"
   },
   "outputs": [
    {
     "name": "stdout",
     "output_type": "stream",
     "text": [
      "Defaulting to user installation because normal site-packages is not writeable\n",
      "Collecting requests\n",
      "  Using cached requests-2.32.3-py3-none-any.whl.metadata (4.6 kB)\n",
      "Collecting beautifulsoup4\n",
      "  Downloading beautifulsoup4-4.12.3-py3-none-any.whl.metadata (3.8 kB)\n",
      "Collecting charset-normalizer<4,>=2 (from requests)\n",
      "  Downloading charset_normalizer-3.4.0-cp312-cp312-win_amd64.whl.metadata (34 kB)\n",
      "Collecting idna<4,>=2.5 (from requests)\n",
      "  Using cached idna-3.10-py3-none-any.whl.metadata (10 kB)\n",
      "Collecting urllib3<3,>=1.21.1 (from requests)\n",
      "  Using cached urllib3-2.2.3-py3-none-any.whl.metadata (6.5 kB)\n",
      "Collecting certifi>=2017.4.17 (from requests)\n",
      "  Using cached certifi-2024.8.30-py3-none-any.whl.metadata (2.2 kB)\n",
      "Collecting soupsieve>1.2 (from beautifulsoup4)\n",
      "  Downloading soupsieve-2.6-py3-none-any.whl.metadata (4.6 kB)\n",
      "Using cached requests-2.32.3-py3-none-any.whl (64 kB)\n",
      "Downloading beautifulsoup4-4.12.3-py3-none-any.whl (147 kB)\n",
      "Using cached certifi-2024.8.30-py3-none-any.whl (167 kB)\n",
      "Downloading charset_normalizer-3.4.0-cp312-cp312-win_amd64.whl (102 kB)\n",
      "Using cached idna-3.10-py3-none-any.whl (70 kB)\n",
      "Downloading soupsieve-2.6-py3-none-any.whl (36 kB)\n",
      "Using cached urllib3-2.2.3-py3-none-any.whl (126 kB)\n",
      "Installing collected packages: urllib3, soupsieve, idna, charset-normalizer, certifi, requests, beautifulsoup4\n",
      "Successfully installed beautifulsoup4-4.12.3 certifi-2024.8.30 charset-normalizer-3.4.0 idna-3.10 requests-2.32.3 soupsieve-2.6 urllib3-2.2.3\n"
     ]
    },
    {
     "name": "stderr",
     "output_type": "stream",
     "text": [
      "\n",
      "[notice] A new release of pip is available: 24.2 -> 24.3.1\n",
      "[notice] To update, run: python.exe -m pip install --upgrade pip\n"
     ]
    },
    {
     "name": "stdout",
     "output_type": "stream",
     "text": [
      "Defaulting to user installation because normal site-packages is not writeable\n",
      "Collecting GitPython\n",
      "  Downloading GitPython-3.1.43-py3-none-any.whl.metadata (13 kB)\n",
      "Collecting gitdb<5,>=4.0.1 (from GitPython)\n",
      "  Downloading gitdb-4.0.11-py3-none-any.whl.metadata (1.2 kB)\n",
      "Collecting smmap<6,>=3.0.1 (from gitdb<5,>=4.0.1->GitPython)\n",
      "  Downloading smmap-5.0.1-py3-none-any.whl.metadata (4.3 kB)\n",
      "Downloading GitPython-3.1.43-py3-none-any.whl (207 kB)\n",
      "Downloading gitdb-4.0.11-py3-none-any.whl (62 kB)\n",
      "Downloading smmap-5.0.1-py3-none-any.whl (24 kB)\n",
      "Installing collected packages: smmap, gitdb, GitPython\n",
      "Successfully installed GitPython-3.1.43 gitdb-4.0.11 smmap-5.0.1\n"
     ]
    },
    {
     "name": "stderr",
     "output_type": "stream",
     "text": [
      "\n",
      "[notice] A new release of pip is available: 24.2 -> 24.3.1\n",
      "[notice] To update, run: python.exe -m pip install --upgrade pip\n"
     ]
    }
   ],
   "source": [
    "# Instalar librerias\n",
    "!pip install requests beautifulsoup4\n",
    "!pip install GitPython"
   ]
  },
  {
   "cell_type": "code",
   "execution_count": 4,
   "metadata": {
    "colab": {
     "base_uri": "https://localhost:8080/"
    },
    "id": "2YXmS8SfU5fY",
    "outputId": "834de0c7-f23d-440c-f56d-4446aa546a44"
   },
   "outputs": [
    {
     "name": "stdout",
     "output_type": "stream",
     "text": [
      "Clonando el repositorio desde https://github.com/JuanCastellanos89/scrap...\n",
      "Repositorio clonado correctamente.\n"
     ]
    }
   ],
   "source": [
    "from git import Repo, GitCommandError\n",
    "\n",
    "repo_url = \"https://github.com/JuanCastellanos89/scrap\"\n",
    "local_repo_path = \"/content/scrap\"\n",
    "\n",
    "try:\n",
    "    # Intentar clonar el repositorio\n",
    "    print(f\"Clonando el repositorio desde {repo_url}...\")\n",
    "    repo = Repo.clone_from(repo_url, local_repo_path)\n",
    "    print(\"Repositorio clonado correctamente.\")\n",
    "except GitCommandError as e:\n",
    "    print(f\"Error al clonar el repositorio: {e}\")\n",
    "except Exception as e:\n",
    "    print(f\"Ha ocurrido un error inesperado al clonar el repositorio: {e}\")"
   ]
  },
  {
   "cell_type": "code",
   "execution_count": 2,
   "metadata": {
    "colab": {
     "base_uri": "https://localhost:8080/"
    },
    "id": "YXt_8gqUo1WE",
    "outputId": "cece36cc-a4fa-45e5-fbf7-afe5a369161a"
   },
   "outputs": [
    {
     "name": "stdout",
     "output_type": "stream",
     "text": [
      "Obteniendo descripción para: Radeon RX 7600 XT Gaming OC 16G Graphics Card, 3X WINDFORCE Fans 16GB 128-bit GDDR6, GV-R76XTGAMING OC-16GD Video Card\n",
      "Obteniendo descripción para: Speedster SWFT 210 Radeon RX 6600 CORE Gaming Graphics Card with 8GB GDDR6 HDMI 3xDP, AMD RDNA 2 RX-66XL8LFDQ\n",
      "Obteniendo descripción para: AMD Radeon RX 7700 XT Challenger 12GB GDDR6 192-bit 0dB Silent Cooling 7680 x 4320 DisplayPort HDMI LED Indicator 18Gbps Dual Fan Graphics Card\n",
      "Obteniendo descripción para: TUF Gaming Radeon™ RX 7600 XT OC Edition 16GB GDDR6 Graphics Card (AMD RDNA™ 3, PCIe 4.0, HDMI 2.1, DisplayPort 2.1, Axial-tech Fan Design, Auto-Extreme Technology, GPU Tweak III, and More)\n",
      "Obteniendo descripción para: Radeon RX 7800 XT Gaming OC 16G Graphics Card, 3X WINDFORCE Fans 16GB 256-bit GDDR6, GV-R78XTGAMING OC-16GD Video Card\n",
      "Obteniendo descripción para: Nitro AMD Radeon RX7600 XT Overclocking Graphics Card | 16GB GDDR6 128-bit 18 Gbps | Dual Nitro FrostBlade Ringed Fans | TPD 215W | 1 x HDMI 2.1 & 3 x DisplayPort 2.1\n",
      "Obteniendo descripción para: GV-R76GAMING OC-8GD Radeon RX 7600 Gaming OC 8G Graphics Card, 3X WINDFORCE Fans 8GB 128-bit GDDR6, Video Card\n",
      "Obteniendo descripción para: Fighter AMD Radeon RX 6600 Graphics Card with 8GB GDDR6 Memory\n",
      "Obteniendo descripción para: RX 5700 XT Graphics Card, AMD Radeon RX 5700 XT 8GB GDDR6 2560SP 256bit PCI-e 4.0 x16 GPU Computer Graphics Cards, HDMI/DisplayPort*3 Interface, Video Cards Support Up to 8K\n",
      "Obteniendo descripción para: 11335-08-50G Pure AMD Radeon RX 7700 XT Frostpunk 2 Edition Gaming Graphics Card, AMD RDNA 3\n",
      "Obteniendo descripción para: Red Dragon AMD Radeon™ RX 6800 XT Gaming Graphics Card with 16GB GDDR6 Memory, Powered by AMD RDNA™ 2, Raytracing, PCI Express 4.0, HDMI 2.1, AMD Infinity Cache\n",
      "Obteniendo descripción para: Gaming GeForce RTX 3060 12GB 15 Gbps GDRR6 192-Bit HDMI/DP PCIe 4 Torx Twin Fan Ampere OC Graphics Card\n",
      "Obteniendo descripción para: Speedster MERC310 AMD Radeon RX 7900XT Black Gaming Graphics Card with 20GB GDDR6, AMD RDNA 3 RX-79TMERCB9\n",
      "Obteniendo descripción para: Radeon RX 580 GTS XXX Edition 1386MHz OC+, 8GB GDDR5, VR Ready, Dual BIOS, 3xDP HDMI DVI, AMD Graphics Card (RX-580P8DFD6)\n",
      "Obteniendo descripción para: 11330-02-20G Pulse AMD Radeon RX 7800 XT Gaming Graphics Card with 16GB GDDR6, AMD RDNA 3\n",
      "Obteniendo descripción para: 11339-04-20G Pulse AMD Radeon RX 7600 XT Gaming Graphics Card with 16GB GDDR6, AMD RDNA 3\n",
      "Nombre: Radeon RX 7600 XT Gaming OC 16G Graphics Card, 3X WINDFORCE Fans 16GB 128-bit GDDR6, GV-R76XTGAMING OC-16GD Video Card\n",
      "Precio: $314.\n",
      "URL: https://www.amazon.com/GIGABYTE-Graphics-WINDFORCE-GV-R76XTGAMING-OC-16GD/dp/B0CSVJZNNX/ref=sr_1_1?dib=eyJ2IjoiMSJ9.Gm8lrIq316DtX_bq98XUCWGJXbvv-l1YdyhIUJWuJ19iezriSx_bcHYRPR43bh-uTNbsRkDXb8Iwo5cNUc7jJ3iLfiLBo8v3xmOrA9z8qp-_Bda8hlls0fhZ5IG0xgsxQItAnqoDeg74rykDuE6togropjFUJ-912yM19IYjHKwc2EEsYH4RXFwlasxBIOo4WO2mfNBG0a-qHAPuYr9C_ARE6sVA36hJhhD30b0RkHE.V2ijN24h4kEkZmESGpbWqm3gRh-OP5uksBUmOdN6NKo&dib_tag=se&keywords=amd+graphics+card&qid=1733443468&sr=8-1\n",
      "Descripción: The most advanced GPU for gamers is here - the GIGABYTE Radeon RX 7600 XT GAMING OC 16G Graphics Cards. Experience unprecedented performance, visuals, and power efficiency with AMD Radeon RX 7000 Series graphics cards.\n",
      "----------------------------------------\n",
      "Nombre: Speedster SWFT 210 Radeon RX 6600 CORE Gaming Graphics Card with 8GB GDDR6 HDMI 3xDP, AMD RDNA 2 RX-66XL8LFDQ\n",
      "Precio: $200.\n",
      "URL: https://www.amazon.com/XFX-Speedster-Radeon-Graphics-RX-66XL8LFDQ/dp/B09HHLX543/ref=sr_1_2?dib=eyJ2IjoiMSJ9.Gm8lrIq316DtX_bq98XUCWGJXbvv-l1YdyhIUJWuJ19iezriSx_bcHYRPR43bh-uTNbsRkDXb8Iwo5cNUc7jJ3iLfiLBo8v3xmOrA9z8qp-_Bda8hlls0fhZ5IG0xgsxQItAnqoDeg74rykDuE6togropjFUJ-912yM19IYjHKwc2EEsYH4RXFwlasxBIOo4WO2mfNBG0a-qHAPuYr9C_ARE6sVA36hJhhD30b0RkHE.V2ijN24h4kEkZmESGpbWqm3gRh-OP5uksBUmOdN6NKo&dib_tag=se&keywords=amd+graphics+card&qid=1733443468&sr=8-2\n",
      "Descripción: The Speedster series exemplifies a modern aerodynamic style though clean and elegant design. It is a thoughtful design with the sole purpose of maximizing airflow to improve cooling and performance.\n",
      "----------------------------------------\n",
      "Nombre: AMD Radeon RX 7700 XT Challenger 12GB GDDR6 192-bit 0dB Silent Cooling 7680 x 4320 DisplayPort HDMI LED Indicator 18Gbps Dual Fan Graphics Card\n",
      "Precio: $389.\n",
      "URL: https://www.amazon.com/ASRock-RX7700XT-Graphics-CL-12GO/dp/B0CHK2345D/ref=sr_1_3?dib=eyJ2IjoiMSJ9.Gm8lrIq316DtX_bq98XUCWGJXbvv-l1YdyhIUJWuJ19iezriSx_bcHYRPR43bh-uTNbsRkDXb8Iwo5cNUc7jJ3iLfiLBo8v3xmOrA9z8qp-_Bda8hlls0fhZ5IG0xgsxQItAnqoDeg74rykDuE6togropjFUJ-912yM19IYjHKwc2EEsYH4RXFwlasxBIOo4WO2mfNBG0a-qHAPuYr9C_ARE6sVA36hJhhD30b0RkHE.V2ijN24h4kEkZmESGpbWqm3gRh-OP5uksBUmOdN6NKo&dib_tag=se&keywords=amd+graphics+card&qid=1733443468&sr=8-3\n",
      "Descripción: Chip: Radeon / RX7700XT Memory: GDDR6 12 GB (192 bit memory bus). [Core clock] Boost 2,599 MHz Memory Clock: 18,000 MHz [I/F] PCI-Express x16 (4.0 compatible). Output: DisplayPort 1.4 x3, HDMI 2.1 x1. Auxiliary Power Supply: 8 Pin x 2 Board size: 10.5 x 5.1 x 2.0 inches (266 x 130 x 51\n",
      "----------------------------------------\n",
      "Nombre: TUF Gaming Radeon™ RX 7600 XT OC Edition 16GB GDDR6 Graphics Card (AMD RDNA™ 3, PCIe 4.0, HDMI 2.1, DisplayPort 2.1, Axial-tech Fan Design, Auto-Extreme Technology, GPU Tweak III, and More)\n",
      "Precio: $363.\n",
      "URL: https://www.amazon.com/ASUS-DisplayPort-Axial-tech-Auto-Extreme-Technology/dp/B0CS8NPQ1X/ref=sr_1_4?dib=eyJ2IjoiMSJ9.Gm8lrIq316DtX_bq98XUCWGJXbvv-l1YdyhIUJWuJ19iezriSx_bcHYRPR43bh-uTNbsRkDXb8Iwo5cNUc7jJ3iLfiLBo8v3xmOrA9z8qp-_Bda8hlls0fhZ5IG0xgsxQItAnqoDeg74rykDuE6togropjFUJ-912yM19IYjHKwc2EEsYH4RXFwlasxBIOo4WO2mfNBG0a-qHAPuYr9C_ARE6sVA36hJhhD30b0RkHE.V2ijN24h4kEkZmESGpbWqm3gRh-OP5uksBUmOdN6NKo&dib_tag=se&keywords=amd+graphics+card&qid=1733443468&sr=8-4\n",
      "Descripción: The all-new ASUS TUF Gaming Radeon™ RX 7600 XT OC has arrived. Take your next step into AAA gaming with all new features such as the new AMD RDNA™ 3 graphics architecture, paired with ASUS' cooling technologies such as our Axial-tech fan design, Dual ball fan bearings, and GPU Tweak III for performance tuning. Play for victory with the ASUS TUF Gaming Radeon™ RX 7600 XT OC.\n",
      "----------------------------------------\n",
      "Nombre: Radeon RX 7800 XT Gaming OC 16G Graphics Card, 3X WINDFORCE Fans 16GB 256-bit GDDR6, GV-R78XTGAMING OC-16GD Video Card\n",
      "Precio: $489.\n",
      "URL: https://www.amazon.com/GIGABYTE-Graphics-WINDFORCE-GV-R78XTGAMING-OC-16GD/dp/B0CGHQ32S2/ref=sr_1_5?dib=eyJ2IjoiMSJ9.Gm8lrIq316DtX_bq98XUCWGJXbvv-l1YdyhIUJWuJ19iezriSx_bcHYRPR43bh-uTNbsRkDXb8Iwo5cNUc7jJ3iLfiLBo8v3xmOrA9z8qp-_Bda8hlls0fhZ5IG0xgsxQItAnqoDeg74rykDuE6togropjFUJ-912yM19IYjHKwc2EEsYH4RXFwlasxBIOo4WO2mfNBG0a-qHAPuYr9C_ARE6sVA36hJhhD30b0RkHE.V2ijN24h4kEkZmESGpbWqm3gRh-OP5uksBUmOdN6NKo&dib_tag=se&keywords=amd+graphics+card&qid=1733443468&sr=8-5\n",
      "Descripción: Powered by Radeon RX 7800 XT Integrated with 16GB GDDR6 256-bit memory interface WINDFORCE cooling system, RGB Fusion, Protection metal backplate. Experience incredible performance, visuals, and efficiency when gaming and streaming with the GIGABYTE Radeon RX 7800 XT GAMING OC 16G, powered by the AMD RDNA 3 architecture. The GIGABYTE Radeon RX 7800 XT GAMING OC 16G delivers an incredible high refresh 1440p gaming & streaming experience.\n",
      "----------------------------------------\n",
      "Nombre: Nitro AMD Radeon RX7600 XT Overclocking Graphics Card | 16GB GDDR6 128-bit 18 Gbps | Dual Nitro FrostBlade Ringed Fans | TPD 215W | 1 x HDMI 2.1 & 3 x DisplayPort 2.1\n",
      "Precio: $354.\n",
      "URL: https://www.amazon.com/Overclocking-Graphics-128-bit-FrostBlade-DisplayPort/dp/B0CV8WJTGL/ref=sr_1_6?dib=eyJ2IjoiMSJ9.Gm8lrIq316DtX_bq98XUCWGJXbvv-l1YdyhIUJWuJ19iezriSx_bcHYRPR43bh-uTNbsRkDXb8Iwo5cNUc7jJ3iLfiLBo8v3xmOrA9z8qp-_Bda8hlls0fhZ5IG0xgsxQItAnqoDeg74rykDuE6togropjFUJ-912yM19IYjHKwc2EEsYH4RXFwlasxBIOo4WO2mfNBG0a-qHAPuYr9C_ARE6sVA36hJhhD30b0RkHE.V2ijN24h4kEkZmESGpbWqm3gRh-OP5uksBUmOdN6NKo&dib_tag=se&keywords=amd+graphics+card&qid=1733443468&sr=8-6\n",
      "Descripción: GAME.STREAM.ADVANCE: The AMD Radeon RX 7600 XT graphics card delivers great gaming today, and confidence to continue gaming for years to come with 16GB of GDDR6 memory and next gen technologies that enable a smoother running, better looking, and ultra-fast gaming experience at 1080p and even beyond. With next gen technologies like AMD FidelityFX Super Resolution 3 and AMD HYPR-RX with AMD Fluid Motion Frames, you can crank up your game settings for ultimate immersion and responsiveness, and even jump up to 1440p. 16GB of blazing fast memory not only future-readies gaming for years to come, but it also makes more room for your unbounded creativity in AI and creation workloads. The AMD Radeon RX 7600 XT GPU delivers what matters most to gamers – future-ready performance and next gen technologies, all at an incredible price. (DP.Z3LWW.P02)\n",
      "----------------------------------------\n",
      "Nombre: GV-R76GAMING OC-8GD Radeon RX 7600 Gaming OC 8G Graphics Card, 3X WINDFORCE Fans 8GB 128-bit GDDR6, Video Card\n",
      "Precio: $264.\n",
      "URL: https://www.amazon.com/GIGABYTE-GV-R76GAMING-OC-8GD-Graphics-WINDFORCE/dp/B0C5S9CHMG/ref=sr_1_7?dib=eyJ2IjoiMSJ9.Gm8lrIq316DtX_bq98XUCWGJXbvv-l1YdyhIUJWuJ19iezriSx_bcHYRPR43bh-uTNbsRkDXb8Iwo5cNUc7jJ3iLfiLBo8v3xmOrA9z8qp-_Bda8hlls0fhZ5IG0xgsxQItAnqoDeg74rykDuE6togropjFUJ-912yM19IYjHKwc2EEsYH4RXFwlasxBIOo4WO2mfNBG0a-qHAPuYr9C_ARE6sVA36hJhhD30b0RkHE.V2ijN24h4kEkZmESGpbWqm3gRh-OP5uksBUmOdN6NKo&dib_tag=se&keywords=amd+graphics+card&qid=1733443468&sr=8-7\n",
      "Descripción: Powered by Radeon RX 7600 Integrated with 8GB GDDR6 128-bit memory interface PCI Express 4.0 Support WINDFORCE cooling system, RGB Fusion, Protection metal backplate HDMI 2.1 x1, DisplayPort 2.1 x2. The most advanced GPU for gamers is here - the GIGABYTE Radeon RX 7600 GAMING OC 8G Graphics Cards. Experience unprecedented performance, visuals, and power efficiency at 4K and beyond with AMD Radeon RX 7000 Series graphics cards.\n",
      "----------------------------------------\n",
      "Nombre: Fighter AMD Radeon RX 6600 Graphics Card with 8GB GDDR6 Memory\n",
      "Precio: $189.\n",
      "URL: https://www.amazon.com/PowerColor-Fighter-Radeon-6600-Graphics/dp/B09H3PY14M/ref=sr_1_8?dib=eyJ2IjoiMSJ9.Gm8lrIq316DtX_bq98XUCWGJXbvv-l1YdyhIUJWuJ19iezriSx_bcHYRPR43bh-uTNbsRkDXb8Iwo5cNUc7jJ3iLfiLBo8v3xmOrA9z8qp-_Bda8hlls0fhZ5IG0xgsxQItAnqoDeg74rykDuE6togropjFUJ-912yM19IYjHKwc2EEsYH4RXFwlasxBIOo4WO2mfNBG0a-qHAPuYr9C_ARE6sVA36hJhhD30b0RkHE.V2ijN24h4kEkZmESGpbWqm3gRh-OP5uksBUmOdN6NKo&dib_tag=se&keywords=amd+graphics+card&qid=1733443468&sr=8-8\n",
      "Descripción: PowerColor Fighter AMD Radeon RX 6600 Graphics Card with 8GB GDDR6 Memory\n",
      "----------------------------------------\n",
      "Nombre: RX 5700 XT Graphics Card, AMD Radeon RX 5700 XT 8GB GDDR6 2560SP 256bit PCI-e 4.0 x16 GPU Computer Graphics Cards, HDMI/DisplayPort*3 Interface, Video Cards Support Up to 8K\n",
      "Precio: $209.\n",
      "URL: https://www.amazon.com/GPVHOSO-5700-Graphics-Card-DisplayPort/dp/B0DFWF7X1P/ref=sr_1_9?dib=eyJ2IjoiMSJ9.Gm8lrIq316DtX_bq98XUCWGJXbvv-l1YdyhIUJWuJ19iezriSx_bcHYRPR43bh-uTNbsRkDXb8Iwo5cNUc7jJ3iLfiLBo8v3xmOrA9z8qp-_Bda8hlls0fhZ5IG0xgsxQItAnqoDeg74rykDuE6togropjFUJ-912yM19IYjHKwc2EEsYH4RXFwlasxBIOo4WO2mfNBG0a-qHAPuYr9C_ARE6sVA36hJhhD30b0RkHE.V2ijN24h4kEkZmESGpbWqm3gRh-OP5uksBUmOdN6NKo&dib_tag=se&keywords=amd+graphics+card&qid=1733443468&sr=8-9\n",
      "Descripción: The rx 5700 xt 8gb graphics card adopts advanced 7nm core technology to ensure excellent performance and efficiency, and the powerful Navi 10 GPU architecture provides stable and smooth gaming performance, providing 2K/4K screen resolution for today's most popular games.\n",
      "----------------------------------------\n",
      "Nombre: 11335-08-50G Pure AMD Radeon RX 7700 XT Frostpunk 2 Edition Gaming Graphics Card, AMD RDNA 3\n",
      "Precio: $439.\n",
      "URL: https://www.amazon.com/Sapphire-11335-08-50G-Radeon-Frostpunk-Graphics/dp/B0D5N2BS8X/ref=sr_1_10?dib=eyJ2IjoiMSJ9.Gm8lrIq316DtX_bq98XUCWGJXbvv-l1YdyhIUJWuJ19iezriSx_bcHYRPR43bh-uTNbsRkDXb8Iwo5cNUc7jJ3iLfiLBo8v3xmOrA9z8qp-_Bda8hlls0fhZ5IG0xgsxQItAnqoDeg74rykDuE6togropjFUJ-912yM19IYjHKwc2EEsYH4RXFwlasxBIOo4WO2mfNBG0a-qHAPuYr9C_ARE6sVA36hJhhD30b0RkHE.V2ijN24h4kEkZmESGpbWqm3gRh-OP5uksBUmOdN6NKo&dib_tag=se&keywords=amd+graphics+card&qid=1733443468&sr=8-10\n",
      "Descripción: SAPPHIRE 11335-08-50G PURE AMD RADEON RX 7700 XT Frostpunk 2 Edition Gaming Graphics Card, AMD RDNA 3\n",
      "----------------------------------------\n",
      "Nombre: Red Dragon AMD Radeon™ RX 6800 XT Gaming Graphics Card with 16GB GDDR6 Memory, Powered by AMD RDNA™ 2, Raytracing, PCI Express 4.0, HDMI 2.1, AMD Infinity Cache\n",
      "Precio: $282.\n",
      "URL: https://www.amazon.com/PowerColor-Graphics-Powered-Raytracing-Infinity/dp/B08V1WK4LB/ref=sr_1_11?dib=eyJ2IjoiMSJ9.Gm8lrIq316DtX_bq98XUCWGJXbvv-l1YdyhIUJWuJ19iezriSx_bcHYRPR43bh-uTNbsRkDXb8Iwo5cNUc7jJ3iLfiLBo8v3xmOrA9z8qp-_Bda8hlls0fhZ5IG0xgsxQItAnqoDeg74rykDuE6togropjFUJ-912yM19IYjHKwc2EEsYH4RXFwlasxBIOo4WO2mfNBG0a-qHAPuYr9C_ARE6sVA36hJhhD30b0RkHE.V2ijN24h4kEkZmESGpbWqm3gRh-OP5uksBUmOdN6NKo&dib_tag=se&keywords=amd+graphics+card&qid=1733443468&sr=8-11\n",
      "Descripción: PowerColor Red Dragon AMD Radeon™ RX 6800 XT Gaming Graphics Card with 16GB GDDR6 Memory, Powered by AMD RDNA™ 2, Raytracing, PCI Express 4.0, HDMI 2.1, AMD Infinity Cache\n",
      "----------------------------------------\n",
      "Nombre: Gaming GeForce RTX 3060 12GB 15 Gbps GDRR6 192-Bit HDMI/DP PCIe 4 Torx Twin Fan Ampere OC Graphics Card\n",
      "Precio: $689.\n",
      "URL: https://www.amazon.com/MSI-GeForce-RTX-3060-12G/dp/B08WPRMVWB/ref=sr_1_12?dib=eyJ2IjoiMSJ9.Gm8lrIq316DtX_bq98XUCWGJXbvv-l1YdyhIUJWuJ19iezriSx_bcHYRPR43bh-uTNbsRkDXb8Iwo5cNUc7jJ3iLfiLBo8v3xmOrA9z8qp-_Bda8hlls0fhZ5IG0xgsxQItAnqoDeg74rykDuE6togropjFUJ-912yM19IYjHKwc2EEsYH4RXFwlasxBIOo4WO2mfNBG0a-qHAPuYr9C_ARE6sVA36hJhhD30b0RkHE.V2ijN24h4kEkZmESGpbWqm3gRh-OP5uksBUmOdN6NKo&dib_tag=se&keywords=amd+graphics+card&qid=1733443468&sr=8-12\n",
      "Descripción: The GeForce RTX 3060 lets you take on the latest games using the power of Ampere, NVIDIA's 2nd generation RTX architecture. Get incredible performance with enhanced Ray Tracing Cores and Tensor Cores, new streaming multiprocessors, and high-speed G6 memory.\n",
      "----------------------------------------\n",
      "Nombre: Speedster MERC310 AMD Radeon RX 7900XT Black Gaming Graphics Card with 20GB GDDR6, AMD RDNA 3 RX-79TMERCB9\n",
      "Precio: $129.\n",
      "URL: https://www.amazon.com/XFX-Speedster-MERC310-Graphics-RX-79TMERCB9/dp/B0BNLSZDCX/ref=sr_1_13?dib=eyJ2IjoiMSJ9.Gm8lrIq316DtX_bq98XUCWGJXbvv-l1YdyhIUJWuJ19iezriSx_bcHYRPR43bh-uTNbsRkDXb8Iwo5cNUc7jJ3iLfiLBo8v3xmOrA9z8qp-_Bda8hlls0fhZ5IG0xgsxQItAnqoDeg74rykDuE6togropjFUJ-912yM19IYjHKwc2EEsYH4RXFwlasxBIOo4WO2mfNBG0a-qHAPuYr9C_ARE6sVA36hJhhD30b0RkHE.V2ijN24h4kEkZmESGpbWqm3gRh-OP5uksBUmOdN6NKo&dib_tag=se&keywords=amd+graphics+card&qid=1733443468&sr=8-13\n",
      "Descripción: The XFX AMD Radeon RX 7000 Series graphics cards, featuring the groundbreaking AMD RDNA 3 architecture, deliver ultra-high frame rates for your favorite games at 4K max settings.\n",
      "----------------------------------------\n",
      "Nombre: Radeon RX 580 GTS XXX Edition 1386MHz OC+, 8GB GDDR5, VR Ready, Dual BIOS, 3xDP HDMI DVI, AMD Graphics Card (RX-580P8DFD6)\n",
      "Precio: $469.\n",
      "URL: https://www.amazon.com/XFX-Radeon-1386MHz-Graphics-RX-580P8DFD6/dp/B06Y66K3XD/ref=sr_1_14?dib=eyJ2IjoiMSJ9.Gm8lrIq316DtX_bq98XUCWGJXbvv-l1YdyhIUJWuJ19iezriSx_bcHYRPR43bh-uTNbsRkDXb8Iwo5cNUc7jJ3iLfiLBo8v3xmOrA9z8qp-_Bda8hlls0fhZ5IG0xgsxQItAnqoDeg74rykDuE6togropjFUJ-912yM19IYjHKwc2EEsYH4RXFwlasxBIOo4WO2mfNBG0a-qHAPuYr9C_ARE6sVA36hJhhD30b0RkHE.V2ijN24h4kEkZmESGpbWqm3gRh-OP5uksBUmOdN6NKo&dib_tag=se&keywords=amd+graphics+card&qid=1733443468&sr=8-14\n",
      "Descripción: XFX Radeon RX 580 GTS XXX Edition 1386MHz OC+, 8GB GDDR5, VR Ready, Dual BIOS, 3xDP HDMI DVI, AMD Graphics Card (RX-580P8DFD6) Product description (optional): XFX Radeon RX 580 GTS XXX Edition 1386MHz OC+, 8GB GDDR5, VR Ready, Dual BIOS, 3xDP HDMI DVI, AMD Graphics Card (RX-580P8DFD6) XFX Dual BIOS Mining - We know enthusiast like options, our RX 570 and 580 graphics cards are shipped with a Dual BIOS. If you want optimal gaming performance just install it and go. For cryptocurrency mining, simply shut the system down and flip the BIOS switch on the card. Our mining BIOS is already tuned to give increased mining hashrates without hassle. Radeon CHILL Technology - Radeon Chill is an intelligent power-saving feature for Radeon graphics that dynamically regulates framerate based on your movement’s in-game. During peak gameplay, Radeon Chill works to deliver the full framerate potential of Radeon graphics. As movement decreases, Radeon Chill reduces your gameplay framerate. Designed to save power, lower temperature, and increase GPU life, Radeon Chill enables high performance graphics when you battle and saves power when you explore. High Performance Unibody Heatsink - The XFX RX RS series features our all new Unibody VRM Heatsink construction enable direct transfer to the primary heatsink and heat pipes. This unique combination of material and construction enhances thermal efficiency by a total of 40%. XFX Exclusive Ultra Low Noise XL Inductors - GPU inductors are notoriously noisy with that tiny buzzing noise caused by traditional low quality inductors but XFX's exclusive premium quality XL Inductors utilize multiple layers to seal the Inductors completely and securely nearly eliminating inductor noise.\n",
      "----------------------------------------\n",
      "Nombre: 11330-02-20G Pulse AMD Radeon RX 7800 XT Gaming Graphics Card with 16GB GDDR6, AMD RDNA 3\n",
      "Precio: $329.\n",
      "URL: https://www.amazon.com/Sapphire-11330-02-20G-Radeon-Gaming-Graphics/dp/B0CFWM1LNH/ref=sr_1_15?dib=eyJ2IjoiMSJ9.Gm8lrIq316DtX_bq98XUCWGJXbvv-l1YdyhIUJWuJ19iezriSx_bcHYRPR43bh-uTNbsRkDXb8Iwo5cNUc7jJ3iLfiLBo8v3xmOrA9z8qp-_Bda8hlls0fhZ5IG0xgsxQItAnqoDeg74rykDuE6togropjFUJ-912yM19IYjHKwc2EEsYH4RXFwlasxBIOo4WO2mfNBG0a-qHAPuYr9C_ARE6sVA36hJhhD30b0RkHE.V2ijN24h4kEkZmESGpbWqm3gRh-OP5uksBUmOdN6NKo&dib_tag=se&keywords=amd+graphics+card&qid=1733443468&sr=8-15\n",
      "Descripción: SAPPHIRE 11330-02-20G PULSE AMD RADEON RX 7800 XT Gaming Graphics Card with 16GB GDDR6, AMD RDNA 3\n",
      "----------------------------------------\n",
      "Nombre: 11339-04-20G Pulse AMD Radeon RX 7600 XT Gaming Graphics Card with 16GB GDDR6, AMD RDNA 3\n",
      "Precio: $39.\n",
      "URL: https://www.amazon.com/Sapphire-11339-04-20G-RADEON-Gaming-Graphics/dp/B0CTD21LW1/ref=sr_1_16?dib=eyJ2IjoiMSJ9.Gm8lrIq316DtX_bq98XUCWGJXbvv-l1YdyhIUJWuJ19iezriSx_bcHYRPR43bh-uTNbsRkDXb8Iwo5cNUc7jJ3iLfiLBo8v3xmOrA9z8qp-_Bda8hlls0fhZ5IG0xgsxQItAnqoDeg74rykDuE6togropjFUJ-912yM19IYjHKwc2EEsYH4RXFwlasxBIOo4WO2mfNBG0a-qHAPuYr9C_ARE6sVA36hJhhD30b0RkHE.V2ijN24h4kEkZmESGpbWqm3gRh-OP5uksBUmOdN6NKo&dib_tag=se&keywords=amd+graphics+card&qid=1733443468&sr=8-16\n",
      "Descripción: SAPPHIRE 11339-04-20G PULSE AMD RADEON RX 7600 XT Gaming Graphics Card with 16GB GDDR6, AMD RDNA 3\n",
      "----------------------------------------\n",
      "Los datos han sido guardados en 'productos_amd_con_descripciones.json'\n"
     ]
    }
   ],
   "source": [
    "import requests\n",
    "from bs4 import BeautifulSoup\n",
    "import json\n",
    "import time\n",
    "\n",
    "# URL del artículo: tarjetas de video AMD en Amazon\n",
    "url = \"https://www.amazon.com/s?k=amd+graphics+card\"\n",
    "\n",
    "# Configuración de los encabezados\n",
    "headers = {\n",
    "    \"User-Agent\": \"Mozilla/5.0 (Windows NT 10.0; Win64; x64) AppleWebKit/537.36 (KHTML, like Gecko) Chrome/91.0.4472.124 Safari/537.36\",\n",
    "    \"Accept-Language\": \"en-US,en;q=0.9\",\n",
    "    \"Referer\": \"https://www.amazon.com/\",\n",
    "    \"Accept-Encoding\": \"gzip, deflate, br\"\n",
    "}\n",
    "\n",
    "# Función para obtener la descripción de cada producto\n",
    "def get_product_description(product_url):\n",
    "    response = requests.get(product_url, headers=headers)\n",
    "    if response.status_code == 200:\n",
    "        soup = BeautifulSoup(response.text, 'html.parser')\n",
    "        # Intenta encontrar la descripción utilizando diferentes selectores\n",
    "        description_tag = soup.select_one(\"#productDescription p\")\n",
    "        if not description_tag:\n",
    "            description_tag = soup.select_one(\"div#feature-bullets ul li span\")\n",
    "        if description_tag:\n",
    "            return description_tag.get_text(strip=True)\n",
    "        else:\n",
    "            return \"No description available\"\n",
    "    else:\n",
    "        return \"Error retrieving product description\"\n",
    "\n",
    "# Realiza la solicitud HTTP para la página principal\n",
    "response = requests.get(url, headers=headers)\n",
    "\n",
    "# Comprueba el estado de la respuesta\n",
    "if response.status_code == 200:\n",
    "    # Analiza el contenido con BeautifulSoup\n",
    "    soup = BeautifulSoup(response.text, 'html.parser')\n",
    "\n",
    "    # Extrae los datos de los productos (nombres, precios y enlaces)\n",
    "    product_names = soup.select(\"h2 .a-link-normal.a-text-normal\")\n",
    "    product_prices = soup.select(\".a-price-whole\")\n",
    "\n",
    "    # Almacena los datos en listas\n",
    "    products = []\n",
    "    for name, price in zip(product_names, product_prices):\n",
    "        product_info = {\n",
    "            \"name\": name.get_text(strip=True),\n",
    "            \"price\": price.get_text(strip=True),\n",
    "            \"url\": \"https://www.amazon.com\" + name['href'],  # Construye la URL completa\n",
    "            \"description\": \"Loading...\"  # Se actualizará después\n",
    "        }\n",
    "        products.append(product_info)\n",
    "\n",
    "    # Obtiene la descripción de cada producto visitando su URL\n",
    "    for product in products:\n",
    "        print(f\"Obteniendo descripción para: {product['name']}\")\n",
    "        product['description'] = get_product_description(product['url'])\n",
    "        # Espera entre solicitudes para no ser bloqueado por Amazon\n",
    "        time.sleep(2)  # Espera de 2 segundos entre solicitudes\n",
    "\n",
    "    # Imprime los resultados\n",
    "    for product in products:\n",
    "        print(f\"Nombre: {product['name']}\")\n",
    "        print(f\"Precio: ${product['price']}\")\n",
    "        print(f\"URL: {product['url']}\")\n",
    "        print(f\"Descripción: {product['description']}\")\n",
    "        print(\"-\" * 40)\n",
    "\n",
    "    # Guarda los resultados en un archivo .JSON\n",
    "    with open('productos_amd_con_descripciones.json', 'w') as json_file:\n",
    "        json.dump(products, json_file, indent=4)\n",
    "\n",
    "    print(\"Los datos han sido guardados en 'productos_amd_con_descripciones.json'\")\n",
    "\n",
    "else:\n",
    "    print(\"Error al realizar la solicitud:\", response.status_code)"
   ]
  },
  {
   "cell_type": "markdown",
   "metadata": {
    "id": "l75QraX392_u"
   },
   "source": []
  }
 ],
 "metadata": {
  "colab": {
   "include_colab_link": true,
   "provenance": []
  },
  "kernelspec": {
   "display_name": "Python 3",
   "name": "python3"
  },
  "language_info": {
   "codemirror_mode": {
    "name": "ipython",
    "version": 3
   },
   "file_extension": ".py",
   "mimetype": "text/x-python",
   "name": "python",
   "nbconvert_exporter": "python",
   "pygments_lexer": "ipython3",
   "version": "3.12.6"
  }
 },
 "nbformat": 4,
 "nbformat_minor": 0
}
