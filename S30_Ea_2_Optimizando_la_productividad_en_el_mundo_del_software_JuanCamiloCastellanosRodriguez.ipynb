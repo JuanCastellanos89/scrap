{
  "nbformat": 4,
  "nbformat_minor": 0,
  "metadata": {
    "colab": {
      "provenance": [],
      "include_colab_link": true
    },
    "kernelspec": {
      "name": "python3",
      "display_name": "Python 3"
    },
    "language_info": {
      "name": "python"
    }
  },
  "cells": [
    {
      "cell_type": "markdown",
      "metadata": {
        "id": "view-in-github",
        "colab_type": "text"
      },
      "source": [
        "<a href=\"https://colab.research.google.com/github/JuanCastellanos89/scrap/blob/main/S30_Ea_2_Optimizando_la_productividad_en_el_mundo_del_software_JuanCamiloCastellanosRodriguez.ipynb\" target=\"_parent\"><img src=\"https://colab.research.google.com/assets/colab-badge.svg\" alt=\"Open In Colab\"/></a>"
      ]
    },
    {
      "cell_type": "markdown",
      "source": [
        "**S30 - Evidencia de aprendizaje 2. Optimizando la productividad en el mundo del software**"
      ],
      "metadata": {
        "id": "YwfyhzUUjDLj"
      }
    },
    {
      "cell_type": "code",
      "source": [
        "# Instalar librerias\n",
        "!pip install requests beautifulsoup4\n",
        "!pip install GitPython"
      ],
      "metadata": {
        "id": "KB-mLcbKoYfi",
        "colab": {
          "base_uri": "https://localhost:8080/"
        },
        "outputId": "199b2025-2288-4c6e-f436-2cbb8a367e0e"
      },
      "execution_count": 3,
      "outputs": [
        {
          "output_type": "stream",
          "name": "stdout",
          "text": [
            "Requirement already satisfied: requests in /usr/local/lib/python3.10/dist-packages (2.32.3)\n",
            "Requirement already satisfied: beautifulsoup4 in /usr/local/lib/python3.10/dist-packages (4.12.3)\n",
            "Requirement already satisfied: charset-normalizer<4,>=2 in /usr/local/lib/python3.10/dist-packages (from requests) (3.4.0)\n",
            "Requirement already satisfied: idna<4,>=2.5 in /usr/local/lib/python3.10/dist-packages (from requests) (3.10)\n",
            "Requirement already satisfied: urllib3<3,>=1.21.1 in /usr/local/lib/python3.10/dist-packages (from requests) (2.2.3)\n",
            "Requirement already satisfied: certifi>=2017.4.17 in /usr/local/lib/python3.10/dist-packages (from requests) (2024.8.30)\n",
            "Requirement already satisfied: soupsieve>1.2 in /usr/local/lib/python3.10/dist-packages (from beautifulsoup4) (2.6)\n",
            "Requirement already satisfied: GitPython in /usr/local/lib/python3.10/dist-packages (3.1.43)\n",
            "Requirement already satisfied: gitdb<5,>=4.0.1 in /usr/local/lib/python3.10/dist-packages (from GitPython) (4.0.11)\n",
            "Requirement already satisfied: smmap<6,>=3.0.1 in /usr/local/lib/python3.10/dist-packages (from gitdb<5,>=4.0.1->GitPython) (5.0.1)\n"
          ]
        }
      ]
    },
    {
      "cell_type": "code",
      "source": [
        "from git import Repo, GitCommandError\n",
        "\n",
        "repo_url = \"https://github.com/JuanCastellanos89/scrap\"\n",
        "local_repo_path = \"/content/scrap\"\n",
        "\n",
        "try:\n",
        "    # Intentar clonar el repositorio\n",
        "    print(f\"Clonando el repositorio desde {repo_url}...\")\n",
        "    repo = Repo.clone_from(repo_url, local_repo_path)\n",
        "    print(\"Repositorio clonado correctamente.\")\n",
        "except GitCommandError as e:\n",
        "    print(f\"Error al clonar el repositorio: {e}\")\n",
        "except Exception as e:\n",
        "    print(f\"Ha ocurrido un error inesperado al clonar el repositorio: {e}\")"
      ],
      "metadata": {
        "colab": {
          "base_uri": "https://localhost:8080/"
        },
        "id": "2YXmS8SfU5fY",
        "outputId": "834de0c7-f23d-440c-f56d-4446aa546a44"
      },
      "execution_count": 4,
      "outputs": [
        {
          "output_type": "stream",
          "name": "stdout",
          "text": [
            "Clonando el repositorio desde https://github.com/JuanCastellanos89/scrap...\n",
            "Repositorio clonado correctamente.\n"
          ]
        }
      ]
    },
    {
      "cell_type": "code",
      "source": [
        "import requests\n",
        "from bs4 import BeautifulSoup\n",
        "import json\n",
        "import time\n",
        "\n",
        "# URL del artículo: tarjetas de video AMD en Amazon\n",
        "url = \"https://www.amazon.com/s?k=amd+graphics+card\"\n",
        "\n",
        "# Configuración de los encabezados\n",
        "headers = {\n",
        "    \"User-Agent\": \"Mozilla/5.0 (Windows NT 10.0; Win64; x64) AppleWebKit/537.36 (KHTML, like Gecko) Chrome/91.0.4472.124 Safari/537.36\",\n",
        "    \"Accept-Language\": \"en-US,en;q=0.9\",\n",
        "    \"Referer\": \"https://www.amazon.com/\",\n",
        "    \"Accept-Encoding\": \"gzip, deflate, br\"\n",
        "}\n",
        "\n",
        "# Función para obtener la descripción de cada producto\n",
        "def get_product_description(product_url):\n",
        "    response = requests.get(product_url, headers=headers)\n",
        "    if response.status_code == 200:\n",
        "        soup = BeautifulSoup(response.text, 'html.parser')\n",
        "        # Intenta encontrar la descripción utilizando diferentes selectores\n",
        "        description_tag = soup.select_one(\"#productDescription p\")\n",
        "        if not description_tag:\n",
        "            description_tag = soup.select_one(\"div#feature-bullets ul li span\")\n",
        "        if description_tag:\n",
        "            return description_tag.get_text(strip=True)\n",
        "        else:\n",
        "            return \"No description available\"\n",
        "    else:\n",
        "        return \"Error retrieving product description\"\n",
        "\n",
        "# Realiza la solicitud HTTP para la página principal\n",
        "response = requests.get(url, headers=headers)\n",
        "\n",
        "# Comprueba el estado de la respuesta\n",
        "if response.status_code == 200:\n",
        "    # Analiza el contenido con BeautifulSoup\n",
        "    soup = BeautifulSoup(response.text, 'html.parser')\n",
        "\n",
        "    # Extrae los datos de los productos (nombres, precios y enlaces)\n",
        "    product_names = soup.select(\"h2 .a-link-normal.a-text-normal\")\n",
        "    product_prices = soup.select(\".a-price-whole\")\n",
        "\n",
        "    # Almacena los datos en listas\n",
        "    products = []\n",
        "    for name, price in zip(product_names, product_prices):\n",
        "        product_info = {\n",
        "            \"name\": name.get_text(strip=True),\n",
        "            \"price\": price.get_text(strip=True),\n",
        "            \"url\": \"https://www.amazon.com\" + name['href'],  # Construye la URL completa\n",
        "            \"description\": \"Loading...\"  # Se actualizará después\n",
        "        }\n",
        "        products.append(product_info)\n",
        "\n",
        "    # Obtiene la descripción de cada producto visitando su URL\n",
        "    for product in products:\n",
        "        print(f\"Obteniendo descripción para: {product['name']}\")\n",
        "        product['description'] = get_product_description(product['url'])\n",
        "        # Espera entre solicitudes para no ser bloqueado por Amazon\n",
        "        time.sleep(2)  # Espera de 2 segundos entre solicitudes\n",
        "\n",
        "    # Imprime los resultados\n",
        "    for product in products:\n",
        "        print(f\"Nombre: {product['name']}\")\n",
        "        print(f\"Precio: ${product['price']}\")\n",
        "        print(f\"URL: {product['url']}\")\n",
        "        print(f\"Descripción: {product['description']}\")\n",
        "        print(\"-\" * 40)\n",
        "\n",
        "    # Guarda los resultados en un archivo .JSON\n",
        "    with open('productos_amd_con_descripciones.json', 'w') as json_file:\n",
        "        json.dump(products, json_file, indent=4)\n",
        "\n",
        "    print(\"Los datos han sido guardados en 'productos_amd_con_descripciones.json'\")\n",
        "\n",
        "else:\n",
        "    print(\"Error al realizar la solicitud:\", response.status_code)"
      ],
      "metadata": {
        "colab": {
          "base_uri": "https://localhost:8080/"
        },
        "id": "YXt_8gqUo1WE",
        "outputId": "cece36cc-a4fa-45e5-fbf7-afe5a369161a"
      },
      "execution_count": 5,
      "outputs": [
        {
          "output_type": "stream",
          "name": "stdout",
          "text": [
            "Obteniendo descripción para: Radeon RX 7600 XT Gaming OC 16G Graphics Card, 3X WINDFORCE Fans 16GB 128-bit GDDR6, GV-R76XTGAMING OC-16GD Video Card\n",
            "Obteniendo descripción para: AMD Radeon™ RX 7900 XT Phantom Gaming 20GB OC Graphics Card 320 Bit 7680 x 4320 0dB Silent Cooling 3 x DisplayPort™ 2.1 GDDR6 1 x HDMI™ 2.1 20Gbps PCI Express 4.0\n",
            "Obteniendo descripción para: Radeon RX 7800 XT Gaming OC 16G Graphics Card, 3X WINDFORCE Fans 16GB 256-bit GDDR6, GV-R78XTGAMING OC-16GD Video Card\n",
            "Obteniendo descripción para: Speedster QICK319 Radeon RX 6750XT CORE Gaming Graphics Card with 12GB GDDR6 HDMI 3xDP, AMD RDNA 2 RX-675XYJFDP\n",
            "Obteniendo descripción para: Fighter AMD Radeon RX 6750 XT 12GB GDDR6 Graphics Card\n",
            "Obteniendo descripción para: 11319-07-20G Pulse AMD Radeon RX 6650 XT Gaming Graphics Card with 8GB GDDR6, AMD RDNA 2\n",
            "Obteniendo descripción para: Gaming GeForce RTX 3060 12GB 15 Gbps GDRR6 192-Bit HDMI/DP PCIe 4 Torx Twin Fan Ampere OC Graphics Card\n",
            "Obteniendo descripción para: TUF Gaming Radeon™ RX 7600 XT OC Edition 16GB GDDR6 Graphics Card (AMD RDNA™ 3, PCIe 4.0, HDMI 2.1, DisplayPort 2.1, Axial-tech Fan Design, Auto-Extreme Technology, GPU Tweak III, and More)\n",
            "Obteniendo descripción para: Mercury AMD Radeon RX 7900 XTX Magnetic Air Gaming Graphics Card with 24GB GDDR6, RDNA3 RX-79XMAIRB9\n",
            "Obteniendo descripción para: Radeon RX 580 GTS XXX Edition 1386MHz OC+, 8GB GDDR5, VR Ready, Dual BIOS, 3xDP HDMI DVI, AMD Graphics Card (RX-580P8DFD6)\n",
            "Obteniendo descripción para: 11330-01-20G Nitro+ AMD Radeon RX 7800 XT Gaming Graphics Card with 16GB GDDR6, AMD RDNA 3\n",
            "Obteniendo descripción para: 11323-02-20G Pulse AMD Radeon RX 7900 XT Gaming Graphics Card with 20GB GDDR6, AMD RDNA 3\n",
            "Obteniendo descripción para: GeForce RTX 3060 Gaming OC 12G (REV2.0) Graphics Card, 3X WINDFORCE Fans, 12GB 192-bit GDDR6, GV-N3060GAMING OC-12GD Video Card\n",
            "Obteniendo descripción para: GV-R76GAMING OC-8GD Radeon RX 7600 Gaming OC 8G Graphics Card, 3X WINDFORCE Fans 8GB 128-bit GDDR6, Video Card\n",
            "Obteniendo descripción para: 11339-04-20G Pulse AMD Radeon RX 7600 XT Gaming Graphics Card with 16GB GDDR6, AMD RDNA 3\n",
            "Obteniendo descripción para: RX 580 8GB Graphics Card, 2048SP 1289MHz GDDR5 256bit Radeon RX580 AMD GPU Video Card with Dual Cooling Fan, HDMI, 3*DP, DVI-Output, 8K PCIE 3.0 Computer Graphics Card for Gaming PC\n",
            "Nombre: Radeon RX 7600 XT Gaming OC 16G Graphics Card, 3X WINDFORCE Fans 16GB 128-bit GDDR6, GV-R76XTGAMING OC-16GD Video Card\n",
            "Precio: $279.\n",
            "URL: https://www.amazon.com/GIGABYTE-Graphics-WINDFORCE-GV-R76XTGAMING-OC-16GD/dp/B0CSVJZNNX/ref=sr_1_1?dib=eyJ2IjoiMSJ9.EonGrbA5P0zPNB6xo-to8PbTz8tpel6dyLY7HM8bk4Caq3GShsLPznG2DZ3FqANefyoVLAuAHRjLdBe86ddtTT7TTTFBbRsXwwSFjbed2FJhQhsj0gPZu-qQyFYyKB-vUBKPugIjwYEvrvCQWuhjHyZlNOZcVpyTykQBziOc2p551zptWJmVpX8hLamGVXjxspNOZZFzMe-6-43NoXCrpCeqGZRAyZ_HdOUKXHWJVO4.Q9SRU8LHmJG0z-61emwin2end5rj1dZ9BChD5tTkr3M&dib_tag=se&keywords=amd+graphics+card&qid=1732236352&sr=8-1\n",
            "Descripción: The most advanced GPU for gamers is here - the GIGABYTE Radeon RX 7600 XT GAMING OC 16G Graphics Cards. Experience unprecedented performance, visuals, and power efficiency with AMD Radeon RX 7000 Series graphics cards.\n",
            "----------------------------------------\n",
            "Nombre: AMD Radeon™ RX 7900 XT Phantom Gaming 20GB OC Graphics Card 320 Bit 7680 x 4320 0dB Silent Cooling 3 x DisplayPort™ 2.1 GDDR6 1 x HDMI™ 2.1 20Gbps PCI Express 4.0\n",
            "Precio: $649.\n",
            "URL: https://www.amazon.com/ASRock-RX7900XT-PG-20GO-Graphics/dp/B0BTPJBSBV/ref=sr_1_2?dib=eyJ2IjoiMSJ9.EonGrbA5P0zPNB6xo-to8PbTz8tpel6dyLY7HM8bk4Caq3GShsLPznG2DZ3FqANefyoVLAuAHRjLdBe86ddtTT7TTTFBbRsXwwSFjbed2FJhQhsj0gPZu-qQyFYyKB-vUBKPugIjwYEvrvCQWuhjHyZlNOZcVpyTykQBziOc2p551zptWJmVpX8hLamGVXjxspNOZZFzMe-6-43NoXCrpCeqGZRAyZ_HdOUKXHWJVO4.Q9SRU8LHmJG0z-61emwin2end5rj1dZ9BChD5tTkr3M&dib_tag=se&keywords=amd+graphics+card&qid=1732236352&sr=8-2\n",
            "Descripción: Clock: GPU / Memory Boost Clock*: Up to 2450MHz / 20Gbps Game Clock**: 2075MHz / 20Gbps Key Specification AMD Radeon™ RX 7900 XT GPU 20GB GDDR6 on 320-Bit Memory Bus 84 AMD RDNA™ 3 Compute Units (With Rt+Ai Accelerators) 80MB AMD Infinity Cache™ Technology PCI® Express 4.0 Support 2 x 8-pin Power Connectors 3 x DisplayPort™ 2.1 / 1 x HDMI™ 2.1 Key Features Polychrome SYNC Phantom Gaming 3X Cooling System Striped Ring Fan Reinforced Metal Frame Stylish Metal Backplate 0dB Silent Cooling Super Alloy Graphics Card\n",
            "----------------------------------------\n",
            "Nombre: Radeon RX 7800 XT Gaming OC 16G Graphics Card, 3X WINDFORCE Fans 16GB 256-bit GDDR6, GV-R78XTGAMING OC-16GD Video Card\n",
            "Precio: $489.\n",
            "URL: https://www.amazon.com/GIGABYTE-Graphics-WINDFORCE-GV-R78XTGAMING-OC-16GD/dp/B0CGHQ32S2/ref=sr_1_3?dib=eyJ2IjoiMSJ9.EonGrbA5P0zPNB6xo-to8PbTz8tpel6dyLY7HM8bk4Caq3GShsLPznG2DZ3FqANefyoVLAuAHRjLdBe86ddtTT7TTTFBbRsXwwSFjbed2FJhQhsj0gPZu-qQyFYyKB-vUBKPugIjwYEvrvCQWuhjHyZlNOZcVpyTykQBziOc2p551zptWJmVpX8hLamGVXjxspNOZZFzMe-6-43NoXCrpCeqGZRAyZ_HdOUKXHWJVO4.Q9SRU8LHmJG0z-61emwin2end5rj1dZ9BChD5tTkr3M&dib_tag=se&keywords=amd+graphics+card&qid=1732236352&sr=8-3\n",
            "Descripción: Powered by Radeon RX 7800 XT Integrated with 16GB GDDR6 256-bit memory interface WINDFORCE cooling system, RGB Fusion, Protection metal backplate. Experience incredible performance, visuals, and efficiency when gaming and streaming with the GIGABYTE Radeon RX 7800 XT GAMING OC 16G, powered by the AMD RDNA 3 architecture. The GIGABYTE Radeon RX 7800 XT GAMING OC 16G delivers an incredible high refresh 1440p gaming & streaming experience.\n",
            "----------------------------------------\n",
            "Nombre: Speedster QICK319 Radeon RX 6750XT CORE Gaming Graphics Card with 12GB GDDR6 HDMI 3xDP, AMD RDNA 2 RX-675XYJFDP\n",
            "Precio: $310.\n",
            "URL: https://www.amazon.com/XFX-Speedster-QICK319-Graphics-RX-675XYJFDP/dp/B0B34M1YLW/ref=sr_1_4?dib=eyJ2IjoiMSJ9.EonGrbA5P0zPNB6xo-to8PbTz8tpel6dyLY7HM8bk4Caq3GShsLPznG2DZ3FqANefyoVLAuAHRjLdBe86ddtTT7TTTFBbRsXwwSFjbed2FJhQhsj0gPZu-qQyFYyKB-vUBKPugIjwYEvrvCQWuhjHyZlNOZcVpyTykQBziOc2p551zptWJmVpX8hLamGVXjxspNOZZFzMe-6-43NoXCrpCeqGZRAyZ_HdOUKXHWJVO4.Q9SRU8LHmJG0z-61emwin2end5rj1dZ9BChD5tTkr3M&dib_tag=se&keywords=amd+graphics+card&qid=1732236352&sr=8-4\n",
            "Descripción: The Speedster series exemplifies a modern aerodynamic style though clean and elegant design. It is a thoughtful design with the sole purpose of maximizing airflow to improve cooling and performance.\n",
            "----------------------------------------\n",
            "Nombre: Fighter AMD Radeon RX 6750 XT 12GB GDDR6 Graphics Card\n",
            "Precio: $325.\n",
            "URL: https://www.amazon.com/PowerColor-Fighter-Radeon-GDDR6-Graphics/dp/B0CH1R789W/ref=sr_1_5?dib=eyJ2IjoiMSJ9.EonGrbA5P0zPNB6xo-to8PbTz8tpel6dyLY7HM8bk4Caq3GShsLPznG2DZ3FqANefyoVLAuAHRjLdBe86ddtTT7TTTFBbRsXwwSFjbed2FJhQhsj0gPZu-qQyFYyKB-vUBKPugIjwYEvrvCQWuhjHyZlNOZcVpyTykQBziOc2p551zptWJmVpX8hLamGVXjxspNOZZFzMe-6-43NoXCrpCeqGZRAyZ_HdOUKXHWJVO4.Q9SRU8LHmJG0z-61emwin2end5rj1dZ9BChD5tTkr3M&dib_tag=se&keywords=amd+graphics+card&qid=1732236352&sr=8-5\n",
            "Descripción: PowerColor Fighter AMD Radeon RX 6750 XT 12GB GDDR6 Graphics Card\n",
            "----------------------------------------\n",
            "Nombre: 11319-07-20G Pulse AMD Radeon RX 6650 XT Gaming Graphics Card with 8GB GDDR6, AMD RDNA 2\n",
            "Precio: $209.\n",
            "URL: https://www.amazon.com/Sapphire-11319-07-20G-Radeon-Gaming-Graphics/dp/B0D5N2BQQQ/ref=sr_1_6?dib=eyJ2IjoiMSJ9.EonGrbA5P0zPNB6xo-to8PbTz8tpel6dyLY7HM8bk4Caq3GShsLPznG2DZ3FqANefyoVLAuAHRjLdBe86ddtTT7TTTFBbRsXwwSFjbed2FJhQhsj0gPZu-qQyFYyKB-vUBKPugIjwYEvrvCQWuhjHyZlNOZcVpyTykQBziOc2p551zptWJmVpX8hLamGVXjxspNOZZFzMe-6-43NoXCrpCeqGZRAyZ_HdOUKXHWJVO4.Q9SRU8LHmJG0z-61emwin2end5rj1dZ9BChD5tTkr3M&dib_tag=se&keywords=amd+graphics+card&qid=1732236352&sr=8-6\n",
            "Descripción: SAPPHIRE 11319-07-20G PULSE AMD Radeon RX 6650 XT Gaming Graphics Card with 8GB GDDR6, AMD RDNA 2\n",
            "----------------------------------------\n",
            "Nombre: Gaming GeForce RTX 3060 12GB 15 Gbps GDRR6 192-Bit HDMI/DP PCIe 4 Torx Twin Fan Ampere OC Graphics Card\n",
            "Precio: $279.\n",
            "URL: https://www.amazon.com/MSI-GeForce-RTX-3060-12G/dp/B08WPRMVWB/ref=sr_1_7?dib=eyJ2IjoiMSJ9.EonGrbA5P0zPNB6xo-to8PbTz8tpel6dyLY7HM8bk4Caq3GShsLPznG2DZ3FqANefyoVLAuAHRjLdBe86ddtTT7TTTFBbRsXwwSFjbed2FJhQhsj0gPZu-qQyFYyKB-vUBKPugIjwYEvrvCQWuhjHyZlNOZcVpyTykQBziOc2p551zptWJmVpX8hLamGVXjxspNOZZFzMe-6-43NoXCrpCeqGZRAyZ_HdOUKXHWJVO4.Q9SRU8LHmJG0z-61emwin2end5rj1dZ9BChD5tTkr3M&dib_tag=se&keywords=amd+graphics+card&qid=1732236352&sr=8-7\n",
            "Descripción: The GeForce RTX 3060 lets you take on the latest games using the power of Ampere, NVIDIA's 2nd generation RTX architecture. Get incredible performance with enhanced Ray Tracing Cores and Tensor Cores, new streaming multiprocessors, and high-speed G6 memory.\n",
            "----------------------------------------\n",
            "Nombre: TUF Gaming Radeon™ RX 7600 XT OC Edition 16GB GDDR6 Graphics Card (AMD RDNA™ 3, PCIe 4.0, HDMI 2.1, DisplayPort 2.1, Axial-tech Fan Design, Auto-Extreme Technology, GPU Tweak III, and More)\n",
            "Precio: $379.\n",
            "URL: https://www.amazon.com/ASUS-DisplayPort-Axial-tech-Auto-Extreme-Technology/dp/B0CS8NPQ1X/ref=sr_1_8?dib=eyJ2IjoiMSJ9.EonGrbA5P0zPNB6xo-to8PbTz8tpel6dyLY7HM8bk4Caq3GShsLPznG2DZ3FqANefyoVLAuAHRjLdBe86ddtTT7TTTFBbRsXwwSFjbed2FJhQhsj0gPZu-qQyFYyKB-vUBKPugIjwYEvrvCQWuhjHyZlNOZcVpyTykQBziOc2p551zptWJmVpX8hLamGVXjxspNOZZFzMe-6-43NoXCrpCeqGZRAyZ_HdOUKXHWJVO4.Q9SRU8LHmJG0z-61emwin2end5rj1dZ9BChD5tTkr3M&dib_tag=se&keywords=amd+graphics+card&qid=1732236352&sr=8-8\n",
            "Descripción: The all-new ASUS TUF Gaming Radeon™ RX 7600 XT OC has arrived. Take your next step into AAA gaming with all new features such as the new AMD RDNA™ 3 graphics architecture, paired with ASUS' cooling technologies such as our Axial-tech fan design, Dual ball fan bearings, and GPU Tweak III for performance tuning. Play for victory with the ASUS TUF Gaming Radeon™ RX 7600 XT OC.\n",
            "----------------------------------------\n",
            "Nombre: Mercury AMD Radeon RX 7900 XTX Magnetic Air Gaming Graphics Card with 24GB GDDR6, RDNA3 RX-79XMAIRB9\n",
            "Precio: $860.\n",
            "URL: https://www.amazon.com/XFX-Mercury-Magnetic-Graphics-RX-79XMAIRB9/dp/B0D6NPDFGP/ref=sr_1_9?dib=eyJ2IjoiMSJ9.EonGrbA5P0zPNB6xo-to8PbTz8tpel6dyLY7HM8bk4Caq3GShsLPznG2DZ3FqANefyoVLAuAHRjLdBe86ddtTT7TTTFBbRsXwwSFjbed2FJhQhsj0gPZu-qQyFYyKB-vUBKPugIjwYEvrvCQWuhjHyZlNOZcVpyTykQBziOc2p551zptWJmVpX8hLamGVXjxspNOZZFzMe-6-43NoXCrpCeqGZRAyZ_HdOUKXHWJVO4.Q9SRU8LHmJG0z-61emwin2end5rj1dZ9BChD5tTkr3M&dib_tag=se&keywords=amd+graphics+card&qid=1732236352&sr=8-9\n",
            "Descripción: The XFX AMD Radeon RX 7000 Series graphics cards, featuring the groundbreaking AMD RDNA 3 architecture, deliver ultra-high frame rates for your favorite games\n",
            "----------------------------------------\n",
            "Nombre: Radeon RX 580 GTS XXX Edition 1386MHz OC+, 8GB GDDR5, VR Ready, Dual BIOS, 3xDP HDMI DVI, AMD Graphics Card (RX-580P8DFD6)\n",
            "Precio: $119.\n",
            "URL: https://www.amazon.com/XFX-Radeon-1386MHz-Graphics-RX-580P8DFD6/dp/B06Y66K3XD/ref=sr_1_10?dib=eyJ2IjoiMSJ9.EonGrbA5P0zPNB6xo-to8PbTz8tpel6dyLY7HM8bk4Caq3GShsLPznG2DZ3FqANefyoVLAuAHRjLdBe86ddtTT7TTTFBbRsXwwSFjbed2FJhQhsj0gPZu-qQyFYyKB-vUBKPugIjwYEvrvCQWuhjHyZlNOZcVpyTykQBziOc2p551zptWJmVpX8hLamGVXjxspNOZZFzMe-6-43NoXCrpCeqGZRAyZ_HdOUKXHWJVO4.Q9SRU8LHmJG0z-61emwin2end5rj1dZ9BChD5tTkr3M&dib_tag=se&keywords=amd+graphics+card&qid=1732236352&sr=8-10\n",
            "Descripción: XFX Radeon RX 580 GTS XXX Edition 1386MHz OC+, 8GB GDDR5, VR Ready, Dual BIOS, 3xDP HDMI DVI, AMD Graphics Card (RX-580P8DFD6) Product description (optional): XFX Radeon RX 580 GTS XXX Edition 1386MHz OC+, 8GB GDDR5, VR Ready, Dual BIOS, 3xDP HDMI DVI, AMD Graphics Card (RX-580P8DFD6) XFX Dual BIOS Mining - We know enthusiast like options, our RX 570 and 580 graphics cards are shipped with a Dual BIOS. If you want optimal gaming performance just install it and go. For cryptocurrency mining, simply shut the system down and flip the BIOS switch on the card. Our mining BIOS is already tuned to give increased mining hashrates without hassle. Radeon CHILL Technology - Radeon Chill is an intelligent power-saving feature for Radeon graphics that dynamically regulates framerate based on your movement’s in-game. During peak gameplay, Radeon Chill works to deliver the full framerate potential of Radeon graphics. As movement decreases, Radeon Chill reduces your gameplay framerate. Designed to save power, lower temperature, and increase GPU life, Radeon Chill enables high performance graphics when you battle and saves power when you explore. High Performance Unibody Heatsink - The XFX RX RS series features our all new Unibody VRM Heatsink construction enable direct transfer to the primary heatsink and heat pipes. This unique combination of material and construction enhances thermal efficiency by a total of 40%. XFX Exclusive Ultra Low Noise XL Inductors - GPU inductors are notoriously noisy with that tiny buzzing noise caused by traditional low quality inductors but XFX's exclusive premium quality XL Inductors utilize multiple layers to seal the Inductors completely and securely nearly eliminating inductor noise.\n",
            "----------------------------------------\n",
            "Nombre: 11330-01-20G Nitro+ AMD Radeon RX 7800 XT Gaming Graphics Card with 16GB GDDR6, AMD RDNA 3\n",
            "Precio: $499.\n",
            "URL: https://www.amazon.com/Sapphire-11330-01-20G-Radeon-Gaming-Graphics/dp/B0CFX69R1R/ref=sr_1_11?dib=eyJ2IjoiMSJ9.EonGrbA5P0zPNB6xo-to8PbTz8tpel6dyLY7HM8bk4Caq3GShsLPznG2DZ3FqANefyoVLAuAHRjLdBe86ddtTT7TTTFBbRsXwwSFjbed2FJhQhsj0gPZu-qQyFYyKB-vUBKPugIjwYEvrvCQWuhjHyZlNOZcVpyTykQBziOc2p551zptWJmVpX8hLamGVXjxspNOZZFzMe-6-43NoXCrpCeqGZRAyZ_HdOUKXHWJVO4.Q9SRU8LHmJG0z-61emwin2end5rj1dZ9BChD5tTkr3M&dib_tag=se&keywords=amd+graphics+card&qid=1732236352&sr=8-11\n",
            "Descripción: SAPPHIRE 11330-01-20G NITRO+ AMD RADEON RX 7800 XT Gaming Graphics Card with 16GB GDDR6, AMD RDNA 3\n",
            "----------------------------------------\n",
            "Nombre: 11323-02-20G Pulse AMD Radeon RX 7900 XT Gaming Graphics Card with 20GB GDDR6, AMD RDNA 3\n",
            "Precio: $649.\n",
            "URL: https://www.amazon.com/Sapphire-11323-02-20G-Radeon-Gaming-Graphics/dp/B0BR6L7TKR/ref=sr_1_12?dib=eyJ2IjoiMSJ9.EonGrbA5P0zPNB6xo-to8PbTz8tpel6dyLY7HM8bk4Caq3GShsLPznG2DZ3FqANefyoVLAuAHRjLdBe86ddtTT7TTTFBbRsXwwSFjbed2FJhQhsj0gPZu-qQyFYyKB-vUBKPugIjwYEvrvCQWuhjHyZlNOZcVpyTykQBziOc2p551zptWJmVpX8hLamGVXjxspNOZZFzMe-6-43NoXCrpCeqGZRAyZ_HdOUKXHWJVO4.Q9SRU8LHmJG0z-61emwin2end5rj1dZ9BChD5tTkr3M&dib_tag=se&keywords=amd+graphics+card&qid=1732236352&sr=8-12\n",
            "Descripción: SAPPHIRE 11323-02-20G PULSE AMD Radeon RX 7900 XT Gaming Graphics Card with 20GB GDDR6, AMD RDNA 3\n",
            "----------------------------------------\n",
            "Nombre: GeForce RTX 3060 Gaming OC 12G (REV2.0) Graphics Card, 3X WINDFORCE Fans, 12GB 192-bit GDDR6, GV-N3060GAMING OC-12GD Video Card\n",
            "Precio: $279.\n",
            "URL: https://www.amazon.com/GIGABYTE-REV2-0-WINDFORCE-GV-N3060GAMING-OC-12GD/dp/B0971BG25M/ref=sr_1_13?dib=eyJ2IjoiMSJ9.EonGrbA5P0zPNB6xo-to8PbTz8tpel6dyLY7HM8bk4Caq3GShsLPznG2DZ3FqANefyoVLAuAHRjLdBe86ddtTT7TTTFBbRsXwwSFjbed2FJhQhsj0gPZu-qQyFYyKB-vUBKPugIjwYEvrvCQWuhjHyZlNOZcVpyTykQBziOc2p551zptWJmVpX8hLamGVXjxspNOZZFzMe-6-43NoXCrpCeqGZRAyZ_HdOUKXHWJVO4.Q9SRU8LHmJG0z-61emwin2end5rj1dZ9BChD5tTkr3M&dib_tag=se&keywords=amd+graphics+card&qid=1732236352&sr=8-13\n",
            "Descripción: NVIDIA Ampere Streaming Multiprocessors 2nd Generation RT Cores 3rd Generation Tensor Cores Powered by GeForce RTX 3060 Integrated with 12GB GDDR6 192-bit memory interface WINDFORCE 3X Cooling System with alternate spinning fans RGB Fusion 2.0 Protection metal back plate 2x HDMI 2.1, 2x DisplayPort 1.4 Core Clock: 1837 MHz Limited Hash Rate version. Get the ultimate gaming performance with GIGABYTE RTX 3060 Graphics Cards. Powered by NVIDIA's 2nd gen RTX architecture and refined with WINDFORCE cooling technology, the GeForce RTX 3060 GAMING OC 12G (rev. 2.0) brings stunning visuals, amazingly fast frame rates, and AI acceleration to games and creative applications with its enhanced RT Cores and Tensor Cores.\n",
            "----------------------------------------\n",
            "Nombre: GV-R76GAMING OC-8GD Radeon RX 7600 Gaming OC 8G Graphics Card, 3X WINDFORCE Fans 8GB 128-bit GDDR6, Video Card\n",
            "Precio: $259.\n",
            "URL: https://www.amazon.com/GIGABYTE-GV-R76GAMING-OC-8GD-Graphics-WINDFORCE/dp/B0C5S9CHMG/ref=sr_1_14?dib=eyJ2IjoiMSJ9.EonGrbA5P0zPNB6xo-to8PbTz8tpel6dyLY7HM8bk4Caq3GShsLPznG2DZ3FqANefyoVLAuAHRjLdBe86ddtTT7TTTFBbRsXwwSFjbed2FJhQhsj0gPZu-qQyFYyKB-vUBKPugIjwYEvrvCQWuhjHyZlNOZcVpyTykQBziOc2p551zptWJmVpX8hLamGVXjxspNOZZFzMe-6-43NoXCrpCeqGZRAyZ_HdOUKXHWJVO4.Q9SRU8LHmJG0z-61emwin2end5rj1dZ9BChD5tTkr3M&dib_tag=se&keywords=amd+graphics+card&qid=1732236352&sr=8-14\n",
            "Descripción: Powered by Radeon RX 7600 Integrated with 8GB GDDR6 128-bit memory interface PCI Express 4.0 Support WINDFORCE cooling system, RGB Fusion, Protection metal backplate HDMI 2.1 x1, DisplayPort 2.1 x2. The most advanced GPU for gamers is here - the GIGABYTE Radeon RX 7600 GAMING OC 8G Graphics Cards. Experience unprecedented performance, visuals, and power efficiency at 4K and beyond with AMD Radeon RX 7000 Series graphics cards.\n",
            "----------------------------------------\n",
            "Nombre: 11339-04-20G Pulse AMD Radeon RX 7600 XT Gaming Graphics Card with 16GB GDDR6, AMD RDNA 3\n",
            "Precio: $329.\n",
            "URL: https://www.amazon.com/Sapphire-11339-04-20G-RADEON-Gaming-Graphics/dp/B0CTD21LW1/ref=sr_1_15?dib=eyJ2IjoiMSJ9.EonGrbA5P0zPNB6xo-to8PbTz8tpel6dyLY7HM8bk4Caq3GShsLPznG2DZ3FqANefyoVLAuAHRjLdBe86ddtTT7TTTFBbRsXwwSFjbed2FJhQhsj0gPZu-qQyFYyKB-vUBKPugIjwYEvrvCQWuhjHyZlNOZcVpyTykQBziOc2p551zptWJmVpX8hLamGVXjxspNOZZFzMe-6-43NoXCrpCeqGZRAyZ_HdOUKXHWJVO4.Q9SRU8LHmJG0z-61emwin2end5rj1dZ9BChD5tTkr3M&dib_tag=se&keywords=amd+graphics+card&qid=1732236352&sr=8-15\n",
            "Descripción: SAPPHIRE 11339-04-20G PULSE AMD RADEON RX 7600 XT Gaming Graphics Card with 16GB GDDR6, AMD RDNA 3\n",
            "----------------------------------------\n",
            "Nombre: RX 580 8GB Graphics Card, 2048SP 1289MHz GDDR5 256bit Radeon RX580 AMD GPU Video Card with Dual Cooling Fan, HDMI, 3*DP, DVI-Output, 8K PCIE 3.0 Computer Graphics Card for Gaming PC\n",
            "Precio: $109.\n",
            "URL: https://www.amazon.com/580-Graphics-1289MHz-DVI-Output-Computer/dp/B0DDWRCCPN/ref=sr_1_16?dib=eyJ2IjoiMSJ9.EonGrbA5P0zPNB6xo-to8PbTz8tpel6dyLY7HM8bk4Caq3GShsLPznG2DZ3FqANefyoVLAuAHRjLdBe86ddtTT7TTTFBbRsXwwSFjbed2FJhQhsj0gPZu-qQyFYyKB-vUBKPugIjwYEvrvCQWuhjHyZlNOZcVpyTykQBziOc2p551zptWJmVpX8hLamGVXjxspNOZZFzMe-6-43NoXCrpCeqGZRAyZ_HdOUKXHWJVO4.Q9SRU8LHmJG0z-61emwin2end5rj1dZ9BChD5tTkr3M&dib_tag=se&keywords=amd+graphics+card&qid=1732236352&sr=8-16\n",
            "Descripción: The RX 580 graphics card is designed for high-performance gaming and offers an impressive 8GB of VRAM (Video Random Access Memory). This allows for smooth and immersive gaming experiences.\n",
            "----------------------------------------\n",
            "Los datos han sido guardados en 'productos_amd_con_descripciones.json'\n"
          ]
        }
      ]
    },
    {
      "cell_type": "markdown",
      "source": [],
      "metadata": {
        "id": "l75QraX392_u"
      }
    }
  ]
}